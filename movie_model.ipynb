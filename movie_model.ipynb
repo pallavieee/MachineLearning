{
  "nbformat": 4,
  "nbformat_minor": 0,
  "metadata": {
    "colab": {
      "provenance": [],
      "authorship_tag": "ABX9TyP3ZhACs8g3cObrFtO+FKmF",
      "include_colab_link": true
    },
    "kernelspec": {
      "name": "python3",
      "display_name": "Python 3"
    },
    "language_info": {
      "name": "python"
    }
  },
  "cells": [
    {
      "cell_type": "markdown",
      "metadata": {
        "id": "view-in-github",
        "colab_type": "text"
      },
      "source": [
        "<a href=\"https://colab.research.google.com/github/pallavieee/MachineLearning/blob/master/movie_model.ipynb\" target=\"_parent\"><img src=\"https://colab.research.google.com/assets/colab-badge.svg\" alt=\"Open In Colab\"/></a>"
      ]
    },
    {
      "cell_type": "code",
      "execution_count": 1,
      "metadata": {
        "id": "iVjZwtVDojpx"
      },
      "outputs": [],
      "source": [
        "import numpy as np\n",
        "import pandas as pd\n",
        "import joblib\n",
        "from sklearn.metrics.pairwise import cosine_similarity\n",
        "from sklearn.metrics import mean_squared_error\n",
        "from sklearn.model_selection import train_test_split\n",
        "from sklearn.feature_extraction.text import TfidfVectorizer\n",
        "from sklearn.metrics.pairwise import linear_kernel"
      ]
    },
    {
      "cell_type": "code",
      "source": [
        "#loading the data \n",
        "movies_data=pd.read_csv('/content/Netflix Dataset Latest 2021 - Netflix Dataset Latest 2021.csv')"
      ],
      "metadata": {
        "id": "owSFIKdMov5x"
      },
      "execution_count": 2,
      "outputs": []
    },
    {
      "cell_type": "code",
      "source": [
        "#printing the first five rows of the datframe\n",
        "movies_data.head()"
      ],
      "metadata": {
        "colab": {
          "base_uri": "https://localhost:8080/",
          "height": 681
        },
        "id": "gg6HUBDXpbdu",
        "outputId": "1f7a225d-832f-44d7-9d23-f39a4205eb70"
      },
      "execution_count": 3,
      "outputs": [
        {
          "output_type": "execute_result",
          "data": {
            "text/plain": [
              "                 Title                                   Genre  \\\n",
              "0     Lets Fight Ghost  Crime, Drama, Fantasy, Horror, Romance   \n",
              "1  HOW TO BUILD A GIRL                                  Comedy   \n",
              "2     The Con-Heartist                         Comedy, Romance   \n",
              "3         Gleboka woda                                   Drama   \n",
              "4        Only a Mother                                   Drama   \n",
              "\n",
              "                                                Tags         Languages  \\\n",
              "0  Comedy Programmes,Romantic TV Comedies,Horror ...  Swedish, Spanish   \n",
              "1       Dramas,Comedies,Films Based on Books,British           English   \n",
              "2  Romantic Comedies,Comedies,Romantic Films,Thai...              Thai   \n",
              "3   TV Dramas,Polish TV Shows,Social Issue TV Dramas            Polish   \n",
              "4  Social Issue Dramas,Dramas,Movies Based on Boo...           Swedish   \n",
              "\n",
              "  Series or Movie  Hidden Gem Score  \\\n",
              "0          Series               4.3   \n",
              "1           Movie               7.0   \n",
              "2           Movie               8.6   \n",
              "3          Series               8.7   \n",
              "4           Movie               8.3   \n",
              "\n",
              "                                Country Availability       Runtime  \\\n",
              "0                                           Thailand  < 30 minutes   \n",
              "1                                             Canada      1-2 hour   \n",
              "2                                           Thailand       > 2 hrs   \n",
              "3                                             Poland  < 30 minutes   \n",
              "4  Lithuania,Poland,France,Italy,Spain,Greece,Bel...      1-2 hour   \n",
              "\n",
              "          Director                                             Writer  ...  \\\n",
              "0  Tomas Alfredson                              John Ajvide Lindqvist  ...   \n",
              "1    Coky Giedroyc                                      Caitlin Moran  ...   \n",
              "2    Mez Tharatorn  Pattaranad Bhiboonsawade, Mez Tharatorn, Thods...  ...   \n",
              "3              NaN                                                NaN  ...   \n",
              "4      Alf Sjöberg                                  Ivar Lo-Johansson  ...   \n",
              "\n",
              "  Netflix Release Date                        Production House  \\\n",
              "0           2021-03-04               Canal+, Sandrew Metronome   \n",
              "1           2021-03-04  Film 4, Monumental Pictures, Lionsgate   \n",
              "2           2021-03-03                                     NaN   \n",
              "3           2021-03-03                                     NaN   \n",
              "4           2021-03-03                                     NaN   \n",
              "\n",
              "                             Netflix Link  \\\n",
              "0  https://www.netflix.com/watch/81415947   \n",
              "1  https://www.netflix.com/watch/81041267   \n",
              "2  https://www.netflix.com/watch/81306155   \n",
              "3  https://www.netflix.com/watch/81307527   \n",
              "4  https://www.netflix.com/watch/81382068   \n",
              "\n",
              "                               IMDb Link  \\\n",
              "0   https://www.imdb.com/title/tt1139797   \n",
              "1   https://www.imdb.com/title/tt4193072   \n",
              "2  https://www.imdb.com/title/tt13393728   \n",
              "3   https://www.imdb.com/title/tt2300049   \n",
              "4   https://www.imdb.com/title/tt0041155   \n",
              "\n",
              "                                             Summary  IMDb Votes  \\\n",
              "0  A med student with a supernatural gift tries t...    205926.0   \n",
              "1  When nerdy Johanna moves to London, things get...      2838.0   \n",
              "2  After her ex-boyfriend cons her out of a large...       131.0   \n",
              "3  A group of social welfare workers led by their...        47.0   \n",
              "4  An unhappily married farm worker struggling to...        88.0   \n",
              "\n",
              "                                               Image  \\\n",
              "0  https://occ-0-4708-64.1.nflxso.net/dnm/api/v6/...   \n",
              "1  https://occ-0-1081-999.1.nflxso.net/dnm/api/v6...   \n",
              "2  https://occ-0-2188-64.1.nflxso.net/dnm/api/v6/...   \n",
              "3  https://occ-0-2508-2706.1.nflxso.net/dnm/api/v...   \n",
              "4  https://occ-0-2851-41.1.nflxso.net/dnm/api/v6/...   \n",
              "\n",
              "                                              Poster  \\\n",
              "0  https://m.media-amazon.com/images/M/MV5BOWM4NT...   \n",
              "1  https://m.media-amazon.com/images/M/MV5BZGUyN2...   \n",
              "2  https://m.media-amazon.com/images/M/MV5BODAzOG...   \n",
              "3  https://m.media-amazon.com/images/M/MV5BMTc0Nz...   \n",
              "4  https://m.media-amazon.com/images/M/MV5BMjVmMz...   \n",
              "\n",
              "                                  TMDb Trailer Trailer Site  \n",
              "0  https://www.youtube.com/watch?v=LqB6XJix-dM      YouTube  \n",
              "1  https://www.youtube.com/watch?v=eIbcxPy4okQ      YouTube  \n",
              "2  https://www.youtube.com/watch?v=md3CmFLGK6Y      YouTube  \n",
              "3  https://www.youtube.com/watch?v=5kyF2vy63r0      YouTube  \n",
              "4  https://www.youtube.com/watch?v=H0itWKFwMpQ      YouTube  \n",
              "\n",
              "[5 rows x 29 columns]"
            ],
            "text/html": [
              "\n",
              "  <div id=\"df-a3d19142-bfe6-4035-92e0-541dc27763cf\">\n",
              "    <div class=\"colab-df-container\">\n",
              "      <div>\n",
              "<style scoped>\n",
              "    .dataframe tbody tr th:only-of-type {\n",
              "        vertical-align: middle;\n",
              "    }\n",
              "\n",
              "    .dataframe tbody tr th {\n",
              "        vertical-align: top;\n",
              "    }\n",
              "\n",
              "    .dataframe thead th {\n",
              "        text-align: right;\n",
              "    }\n",
              "</style>\n",
              "<table border=\"1\" class=\"dataframe\">\n",
              "  <thead>\n",
              "    <tr style=\"text-align: right;\">\n",
              "      <th></th>\n",
              "      <th>Title</th>\n",
              "      <th>Genre</th>\n",
              "      <th>Tags</th>\n",
              "      <th>Languages</th>\n",
              "      <th>Series or Movie</th>\n",
              "      <th>Hidden Gem Score</th>\n",
              "      <th>Country Availability</th>\n",
              "      <th>Runtime</th>\n",
              "      <th>Director</th>\n",
              "      <th>Writer</th>\n",
              "      <th>...</th>\n",
              "      <th>Netflix Release Date</th>\n",
              "      <th>Production House</th>\n",
              "      <th>Netflix Link</th>\n",
              "      <th>IMDb Link</th>\n",
              "      <th>Summary</th>\n",
              "      <th>IMDb Votes</th>\n",
              "      <th>Image</th>\n",
              "      <th>Poster</th>\n",
              "      <th>TMDb Trailer</th>\n",
              "      <th>Trailer Site</th>\n",
              "    </tr>\n",
              "  </thead>\n",
              "  <tbody>\n",
              "    <tr>\n",
              "      <th>0</th>\n",
              "      <td>Lets Fight Ghost</td>\n",
              "      <td>Crime, Drama, Fantasy, Horror, Romance</td>\n",
              "      <td>Comedy Programmes,Romantic TV Comedies,Horror ...</td>\n",
              "      <td>Swedish, Spanish</td>\n",
              "      <td>Series</td>\n",
              "      <td>4.3</td>\n",
              "      <td>Thailand</td>\n",
              "      <td>&lt; 30 minutes</td>\n",
              "      <td>Tomas Alfredson</td>\n",
              "      <td>John Ajvide Lindqvist</td>\n",
              "      <td>...</td>\n",
              "      <td>2021-03-04</td>\n",
              "      <td>Canal+, Sandrew Metronome</td>\n",
              "      <td>https://www.netflix.com/watch/81415947</td>\n",
              "      <td>https://www.imdb.com/title/tt1139797</td>\n",
              "      <td>A med student with a supernatural gift tries t...</td>\n",
              "      <td>205926.0</td>\n",
              "      <td>https://occ-0-4708-64.1.nflxso.net/dnm/api/v6/...</td>\n",
              "      <td>https://m.media-amazon.com/images/M/MV5BOWM4NT...</td>\n",
              "      <td>https://www.youtube.com/watch?v=LqB6XJix-dM</td>\n",
              "      <td>YouTube</td>\n",
              "    </tr>\n",
              "    <tr>\n",
              "      <th>1</th>\n",
              "      <td>HOW TO BUILD A GIRL</td>\n",
              "      <td>Comedy</td>\n",
              "      <td>Dramas,Comedies,Films Based on Books,British</td>\n",
              "      <td>English</td>\n",
              "      <td>Movie</td>\n",
              "      <td>7.0</td>\n",
              "      <td>Canada</td>\n",
              "      <td>1-2 hour</td>\n",
              "      <td>Coky Giedroyc</td>\n",
              "      <td>Caitlin Moran</td>\n",
              "      <td>...</td>\n",
              "      <td>2021-03-04</td>\n",
              "      <td>Film 4, Monumental Pictures, Lionsgate</td>\n",
              "      <td>https://www.netflix.com/watch/81041267</td>\n",
              "      <td>https://www.imdb.com/title/tt4193072</td>\n",
              "      <td>When nerdy Johanna moves to London, things get...</td>\n",
              "      <td>2838.0</td>\n",
              "      <td>https://occ-0-1081-999.1.nflxso.net/dnm/api/v6...</td>\n",
              "      <td>https://m.media-amazon.com/images/M/MV5BZGUyN2...</td>\n",
              "      <td>https://www.youtube.com/watch?v=eIbcxPy4okQ</td>\n",
              "      <td>YouTube</td>\n",
              "    </tr>\n",
              "    <tr>\n",
              "      <th>2</th>\n",
              "      <td>The Con-Heartist</td>\n",
              "      <td>Comedy, Romance</td>\n",
              "      <td>Romantic Comedies,Comedies,Romantic Films,Thai...</td>\n",
              "      <td>Thai</td>\n",
              "      <td>Movie</td>\n",
              "      <td>8.6</td>\n",
              "      <td>Thailand</td>\n",
              "      <td>&gt; 2 hrs</td>\n",
              "      <td>Mez Tharatorn</td>\n",
              "      <td>Pattaranad Bhiboonsawade, Mez Tharatorn, Thods...</td>\n",
              "      <td>...</td>\n",
              "      <td>2021-03-03</td>\n",
              "      <td>NaN</td>\n",
              "      <td>https://www.netflix.com/watch/81306155</td>\n",
              "      <td>https://www.imdb.com/title/tt13393728</td>\n",
              "      <td>After her ex-boyfriend cons her out of a large...</td>\n",
              "      <td>131.0</td>\n",
              "      <td>https://occ-0-2188-64.1.nflxso.net/dnm/api/v6/...</td>\n",
              "      <td>https://m.media-amazon.com/images/M/MV5BODAzOG...</td>\n",
              "      <td>https://www.youtube.com/watch?v=md3CmFLGK6Y</td>\n",
              "      <td>YouTube</td>\n",
              "    </tr>\n",
              "    <tr>\n",
              "      <th>3</th>\n",
              "      <td>Gleboka woda</td>\n",
              "      <td>Drama</td>\n",
              "      <td>TV Dramas,Polish TV Shows,Social Issue TV Dramas</td>\n",
              "      <td>Polish</td>\n",
              "      <td>Series</td>\n",
              "      <td>8.7</td>\n",
              "      <td>Poland</td>\n",
              "      <td>&lt; 30 minutes</td>\n",
              "      <td>NaN</td>\n",
              "      <td>NaN</td>\n",
              "      <td>...</td>\n",
              "      <td>2021-03-03</td>\n",
              "      <td>NaN</td>\n",
              "      <td>https://www.netflix.com/watch/81307527</td>\n",
              "      <td>https://www.imdb.com/title/tt2300049</td>\n",
              "      <td>A group of social welfare workers led by their...</td>\n",
              "      <td>47.0</td>\n",
              "      <td>https://occ-0-2508-2706.1.nflxso.net/dnm/api/v...</td>\n",
              "      <td>https://m.media-amazon.com/images/M/MV5BMTc0Nz...</td>\n",
              "      <td>https://www.youtube.com/watch?v=5kyF2vy63r0</td>\n",
              "      <td>YouTube</td>\n",
              "    </tr>\n",
              "    <tr>\n",
              "      <th>4</th>\n",
              "      <td>Only a Mother</td>\n",
              "      <td>Drama</td>\n",
              "      <td>Social Issue Dramas,Dramas,Movies Based on Boo...</td>\n",
              "      <td>Swedish</td>\n",
              "      <td>Movie</td>\n",
              "      <td>8.3</td>\n",
              "      <td>Lithuania,Poland,France,Italy,Spain,Greece,Bel...</td>\n",
              "      <td>1-2 hour</td>\n",
              "      <td>Alf Sjöberg</td>\n",
              "      <td>Ivar Lo-Johansson</td>\n",
              "      <td>...</td>\n",
              "      <td>2021-03-03</td>\n",
              "      <td>NaN</td>\n",
              "      <td>https://www.netflix.com/watch/81382068</td>\n",
              "      <td>https://www.imdb.com/title/tt0041155</td>\n",
              "      <td>An unhappily married farm worker struggling to...</td>\n",
              "      <td>88.0</td>\n",
              "      <td>https://occ-0-2851-41.1.nflxso.net/dnm/api/v6/...</td>\n",
              "      <td>https://m.media-amazon.com/images/M/MV5BMjVmMz...</td>\n",
              "      <td>https://www.youtube.com/watch?v=H0itWKFwMpQ</td>\n",
              "      <td>YouTube</td>\n",
              "    </tr>\n",
              "  </tbody>\n",
              "</table>\n",
              "<p>5 rows × 29 columns</p>\n",
              "</div>\n",
              "      <button class=\"colab-df-convert\" onclick=\"convertToInteractive('df-a3d19142-bfe6-4035-92e0-541dc27763cf')\"\n",
              "              title=\"Convert this dataframe to an interactive table.\"\n",
              "              style=\"display:none;\">\n",
              "        \n",
              "  <svg xmlns=\"http://www.w3.org/2000/svg\" height=\"24px\"viewBox=\"0 0 24 24\"\n",
              "       width=\"24px\">\n",
              "    <path d=\"M0 0h24v24H0V0z\" fill=\"none\"/>\n",
              "    <path d=\"M18.56 5.44l.94 2.06.94-2.06 2.06-.94-2.06-.94-.94-2.06-.94 2.06-2.06.94zm-11 1L8.5 8.5l.94-2.06 2.06-.94-2.06-.94L8.5 2.5l-.94 2.06-2.06.94zm10 10l.94 2.06.94-2.06 2.06-.94-2.06-.94-.94-2.06-.94 2.06-2.06.94z\"/><path d=\"M17.41 7.96l-1.37-1.37c-.4-.4-.92-.59-1.43-.59-.52 0-1.04.2-1.43.59L10.3 9.45l-7.72 7.72c-.78.78-.78 2.05 0 2.83L4 21.41c.39.39.9.59 1.41.59.51 0 1.02-.2 1.41-.59l7.78-7.78 2.81-2.81c.8-.78.8-2.07 0-2.86zM5.41 20L4 18.59l7.72-7.72 1.47 1.35L5.41 20z\"/>\n",
              "  </svg>\n",
              "      </button>\n",
              "      \n",
              "  <style>\n",
              "    .colab-df-container {\n",
              "      display:flex;\n",
              "      flex-wrap:wrap;\n",
              "      gap: 12px;\n",
              "    }\n",
              "\n",
              "    .colab-df-convert {\n",
              "      background-color: #E8F0FE;\n",
              "      border: none;\n",
              "      border-radius: 50%;\n",
              "      cursor: pointer;\n",
              "      display: none;\n",
              "      fill: #1967D2;\n",
              "      height: 32px;\n",
              "      padding: 0 0 0 0;\n",
              "      width: 32px;\n",
              "    }\n",
              "\n",
              "    .colab-df-convert:hover {\n",
              "      background-color: #E2EBFA;\n",
              "      box-shadow: 0px 1px 2px rgba(60, 64, 67, 0.3), 0px 1px 3px 1px rgba(60, 64, 67, 0.15);\n",
              "      fill: #174EA6;\n",
              "    }\n",
              "\n",
              "    [theme=dark] .colab-df-convert {\n",
              "      background-color: #3B4455;\n",
              "      fill: #D2E3FC;\n",
              "    }\n",
              "\n",
              "    [theme=dark] .colab-df-convert:hover {\n",
              "      background-color: #434B5C;\n",
              "      box-shadow: 0px 1px 3px 1px rgba(0, 0, 0, 0.15);\n",
              "      filter: drop-shadow(0px 1px 2px rgba(0, 0, 0, 0.3));\n",
              "      fill: #FFFFFF;\n",
              "    }\n",
              "  </style>\n",
              "\n",
              "      <script>\n",
              "        const buttonEl =\n",
              "          document.querySelector('#df-a3d19142-bfe6-4035-92e0-541dc27763cf button.colab-df-convert');\n",
              "        buttonEl.style.display =\n",
              "          google.colab.kernel.accessAllowed ? 'block' : 'none';\n",
              "\n",
              "        async function convertToInteractive(key) {\n",
              "          const element = document.querySelector('#df-a3d19142-bfe6-4035-92e0-541dc27763cf');\n",
              "          const dataTable =\n",
              "            await google.colab.kernel.invokeFunction('convertToInteractive',\n",
              "                                                     [key], {});\n",
              "          if (!dataTable) return;\n",
              "\n",
              "          const docLinkHtml = 'Like what you see? Visit the ' +\n",
              "            '<a target=\"_blank\" href=https://colab.research.google.com/notebooks/data_table.ipynb>data table notebook</a>'\n",
              "            + ' to learn more about interactive tables.';\n",
              "          element.innerHTML = '';\n",
              "          dataTable['output_type'] = 'display_data';\n",
              "          await google.colab.output.renderOutput(dataTable, element);\n",
              "          const docLink = document.createElement('div');\n",
              "          docLink.innerHTML = docLinkHtml;\n",
              "          element.appendChild(docLink);\n",
              "        }\n",
              "      </script>\n",
              "    </div>\n",
              "  </div>\n",
              "  "
            ]
          },
          "metadata": {},
          "execution_count": 3
        }
      ]
    },
    {
      "cell_type": "code",
      "source": [
        "#no. of rows and columns\n",
        "movies_data.shape"
      ],
      "metadata": {
        "colab": {
          "base_uri": "https://localhost:8080/"
        },
        "id": "4cliQS4dpeBb",
        "outputId": "f59f08fe-3a84-4a3e-a7b3-5a0f16bc50a8"
      },
      "execution_count": 4,
      "outputs": [
        {
          "output_type": "execute_result",
          "data": {
            "text/plain": [
              "(9425, 29)"
            ]
          },
          "metadata": {},
          "execution_count": 4
        }
      ]
    },
    {
      "cell_type": "code",
      "source": [
        "#selecting relevant features\n",
        "selected_features = ['Title','Genre','Tags','Languages','Director','Writer','Actors','Summary']\n",
        "print(selected_features)"
      ],
      "metadata": {
        "colab": {
          "base_uri": "https://localhost:8080/"
        },
        "id": "g7rLTjp3pmt9",
        "outputId": "9e0e6c76-d96b-418f-f708-7f695e571322"
      },
      "execution_count": 5,
      "outputs": [
        {
          "output_type": "stream",
          "name": "stdout",
          "text": [
            "['Title', 'Genre', 'Tags', 'Languages', 'Director', 'Writer', 'Actors', 'Summary']\n"
          ]
        }
      ]
    },
    {
      "cell_type": "code",
      "source": [
        "#replacing missing and null values with null string\n",
        "\n",
        "for feature in selected_features:\n",
        "  movies_data[feature] = movies_data[feature].fillna('')\n",
        "  movies_data[feature] = movies_data[feature].str.replace(',','')\n",
        "  movies_data[feature] = movies_data[feature].str.lower()"
      ],
      "metadata": {
        "id": "QDk5DXvbpq3v"
      },
      "execution_count": 6,
      "outputs": []
    },
    {
      "cell_type": "code",
      "source": [
        "#combining all the selected features\n",
        "\n",
        "combined_features = movies_data['Title']+' '+movies_data['Genre']+' '+movies_data['Tags']+' '+movies_data['Languages']+' '+movies_data['Director']+' '+movies_data['Writer']+' '+movies_data['Actors']+' '+movies_data['Summary']"
      ],
      "metadata": {
        "id": "BYfXs6ENpuKU"
      },
      "execution_count": 7,
      "outputs": []
    },
    {
      "cell_type": "code",
      "source": [
        "#converting the text data to feature vector\n",
        "tfidf = TfidfVectorizer()\n",
        "feature_vectors = tfidf.fit_transform(combined_features)\n",
        "print(feature_vectors)"
      ],
      "metadata": {
        "colab": {
          "base_uri": "https://localhost:8080/"
        },
        "id": "bEhW-waFrT4A",
        "outputId": "afb83df0-03e5-4d51-89a4-4ada480b52ad"
      },
      "execution_count": 8,
      "outputs": [
        {
          "output_type": "stream",
          "name": "stdout",
          "text": [
            "  (0, 23081)\t0.14731035467284143\n",
            "  (0, 6932)\t0.13814048956023633\n",
            "  (0, 43919)\t0.13448486208267763\n",
            "  (0, 49694)\t0.18905496212399783\n",
            "  (0, 46821)\t0.19822482723660295\n",
            "  (0, 19005)\t0.1668728513362665\n",
            "  (0, 1418)\t0.10443549205376101\n",
            "  (0, 34045)\t0.10507004145720512\n",
            "  (0, 15904)\t0.14791347495037668\n",
            "  (0, 7442)\t0.07121835424624667\n",
            "  (0, 615)\t0.15770298622366136\n",
            "  (0, 21598)\t0.04924296948728292\n",
            "  (0, 34263)\t0.043967077594625315\n",
            "  (0, 22759)\t0.04060365539877618\n",
            "  (0, 8077)\t0.142503135229902\n",
            "  (0, 46937)\t0.03484454499047235\n",
            "  (0, 47553)\t0.11151495811376531\n",
            "  (0, 19059)\t0.15967080681858195\n",
            "  (0, 44995)\t0.12588469132673025\n",
            "  (0, 50445)\t0.05429145744866141\n",
            "  (0, 44658)\t0.10952677221348232\n",
            "  (0, 29949)\t0.19822482723660295\n",
            "  (0, 11383)\t0.16420910906122446\n",
            "  (0, 21222)\t0.1655017848907387\n",
            "  (0, 37810)\t0.1855687412069189\n",
            "  :\t:\n",
            "  (9424, 2457)\t0.15264581865935287\n",
            "  (9424, 19350)\t0.12741632942284836\n",
            "  (9424, 46975)\t0.11451574117914477\n",
            "  (9424, 49796)\t0.13587265216241556\n",
            "  (9424, 16381)\t0.17229175568767885\n",
            "  (9424, 21736)\t0.16118748037598662\n",
            "  (9424, 11697)\t0.11834323205882621\n",
            "  (9424, 20625)\t0.1535125357407971\n",
            "  (9424, 24462)\t0.1261975546489045\n",
            "  (9424, 22392)\t0.1412090606266297\n",
            "  (9424, 41731)\t0.12726071094051525\n",
            "  (9424, 25533)\t0.10754387878873756\n",
            "  (9424, 2462)\t0.07735616266604513\n",
            "  (9424, 18121)\t0.07488346796689924\n",
            "  (9424, 46388)\t0.07316754055498237\n",
            "  (9424, 2318)\t0.04017332894254957\n",
            "  (9424, 16027)\t0.07064792035753133\n",
            "  (9424, 34042)\t0.04183254818255003\n",
            "  (9424, 15141)\t0.03575826851104087\n",
            "  (9424, 43919)\t0.1494501160578332\n",
            "  (9424, 22759)\t0.04512196330311726\n",
            "  (9424, 50445)\t0.06033292142325415\n",
            "  (9424, 47878)\t0.1211223029750164\n",
            "  (9424, 37134)\t0.14346966710850437\n",
            "  (9424, 9990)\t0.05123721289747463\n"
          ]
        }
      ]
    },
    {
      "cell_type": "code",
      "source": [
        "import joblib"
      ],
      "metadata": {
        "id": "mgJf72q_rTv8"
      },
      "execution_count": 9,
      "outputs": []
    },
    {
      "cell_type": "code",
      "source": [
        "joblib.dump(tfidf,\"./vector.pkl\")"
      ],
      "metadata": {
        "colab": {
          "base_uri": "https://localhost:8080/"
        },
        "id": "x1nRj3wWrp-r",
        "outputId": "014b7eb9-387c-49a0-869b-4e23c15138ef"
      },
      "execution_count": 10,
      "outputs": [
        {
          "output_type": "execute_result",
          "data": {
            "text/plain": [
              "['./vector.pkl']"
            ]
          },
          "metadata": {},
          "execution_count": 10
        }
      ]
    },
    {
      "cell_type": "code",
      "source": [
        "#to find similarity\n",
        "similarity_matrix = cosine_similarity(feature_vectors)\n",
        "similarity_matrix"
      ],
      "metadata": {
        "colab": {
          "base_uri": "https://localhost:8080/"
        },
        "id": "OG9PVbd0r3tI",
        "outputId": "9010c2c8-52a3-4190-e50e-c38f10770a3a"
      },
      "execution_count": 11,
      "outputs": [
        {
          "output_type": "execute_result",
          "data": {
            "text/plain": [
              "array([[1.        , 0.00790284, 0.00911991, ..., 0.01426022, 0.00497454,\n",
              "        0.0592928 ],\n",
              "       [0.00790284, 1.        , 0.02038016, ..., 0.02186636, 0.00291727,\n",
              "        0.00982967],\n",
              "       [0.00911991, 0.02038016, 1.        , ..., 0.02169381, 0.0044814 ,\n",
              "        0.00620626],\n",
              "       ...,\n",
              "       [0.01426022, 0.02186636, 0.02169381, ..., 1.        , 0.00901543,\n",
              "        0.02293071],\n",
              "       [0.00497454, 0.00291727, 0.0044814 , ..., 0.00901543, 1.        ,\n",
              "        0.00579475],\n",
              "       [0.0592928 , 0.00982967, 0.00620626, ..., 0.02293071, 0.00579475,\n",
              "        1.        ]])"
            ]
          },
          "metadata": {},
          "execution_count": 11
        }
      ]
    },
    {
      "cell_type": "code",
      "source": [
        "mapping = pd.Series(movies_data.index,index = movies_data['Title'])\n",
        "mapping.to_csv(\"Movie_title.csv\")"
      ],
      "metadata": {
        "id": "k_qikz4qsic-"
      },
      "execution_count": 12,
      "outputs": []
    },
    {
      "cell_type": "code",
      "source": [
        "def recommend_movies_based_on_plot(movie_input):\n",
        "  movie_input = movie_input.lower()\n",
        "  movie_index = mapping[movie_input]\n",
        "  similarity_score = list(enumerate(similarity_matrix[movie_index]))\n",
        "  similarity_score = sorted(similarity_score, key=lambda x: x[1], reverse=True)\n",
        "  similarity_score = similarity_score[1:15]\n",
        "  movie_indices = [i[0] for i in similarity_score]\n",
        "  return (movies_data['Title'].iloc[movie_indices])"
      ],
      "metadata": {
        "id": "X7ZUMYJevIuW"
      },
      "execution_count": 13,
      "outputs": []
    },
    {
      "cell_type": "code",
      "source": [
        "recommend_movies_based_on_plot('Iron man')"
      ],
      "metadata": {
        "colab": {
          "base_uri": "https://localhost:8080/"
        },
        "id": "GCbgyDQ-vYNB",
        "outputId": "abe17653-c482-4bfc-b2d9-3c0a0d928d8d"
      },
      "execution_count": 14,
      "outputs": [
        {
          "output_type": "execute_result",
          "data": {
            "text/plain": [
              "8840                       iron man 2\n",
              "8563                       iron man 3\n",
              "3723           spider-man: homecoming\n",
              "8743               cowboys and aliens\n",
              "5642       captain america: civil war\n",
              "7523             thor: the dark world\n",
              "4573    transformers: the last knight\n",
              "8261                avengers assemble\n",
              "8601                         watchmen\n",
              "9189                          robocop\n",
              "8683              the incredible hulk\n",
              "6381                          ant-man\n",
              "7454                  children of men\n",
              "6548          avengers: age of ultron\n",
              "Name: Title, dtype: object"
            ]
          },
          "metadata": {},
          "execution_count": 14
        }
      ]
    },
    {
      "cell_type": "code",
      "source": [
        "movie_indices = [0,1,2,3,4,5,6,7,8,10,11,12,23,45]"
      ],
      "metadata": {
        "id": "UZTBdJYDxP56"
      },
      "execution_count": 15,
      "outputs": []
    },
    {
      "cell_type": "code",
      "source": [
        "movies_data['Title'].iloc[movie_indices]"
      ],
      "metadata": {
        "colab": {
          "base_uri": "https://localhost:8080/"
        },
        "id": "vh3e4mng2N7Q",
        "outputId": "9b225a78-5436-4883-de62-6767cdbac13e"
      },
      "execution_count": 16,
      "outputs": [
        {
          "output_type": "execute_result",
          "data": {
            "text/plain": [
              "0               lets fight ghost\n",
              "1            how to build a girl\n",
              "2               the con-heartist\n",
              "3                   gleboka woda\n",
              "4                  only a mother\n",
              "5                     snowroller\n",
              "6                  the invisible\n",
              "7     the simple minded murderer\n",
              "8                to kill a child\n",
              "10                             i\n",
              "11              harrys daughters\n",
              "12                 gyllene tider\n",
              "23               ginza cosmetics\n",
              "45                         stray\n",
              "Name: Title, dtype: object"
            ]
          },
          "metadata": {},
          "execution_count": 16
        }
      ]
    },
    {
      "cell_type": "code",
      "source": [
        "import pandas \n",
        "import joblib\n",
        "import numpy \n",
        "\n",
        "\n",
        "class movie_recommend:\n",
        "  def __init__(self):\n",
        "    self.movies_data = pd.read_csv('/content/Netflix Dataset Latest 2021 - Netflix Dataset Latest 2021.csv')\n",
        "    Tfidf = joblib.load('./vector.pkl')\n",
        "    for feature in selected_features:\n",
        "      self.movies_data[feature] = self.movies_data[feature].fillna('')\n",
        "      self.movies_data[feature] = self.movies_data[feature].str.replace(',','')\n",
        "      self.movies_data[feature] = self.movies_data[feature].str.lower()\n",
        "      self.similarity_matrix = cosine_similarity(feature_vectors)\n",
        "      self.mapping = pd.Series(self.movies_data.index,index = self.movies_data['Title'])\n",
        "\t\t\n",
        "  def recommend_movies_based_on_plot(self,movie_input):\n",
        "    movie_input = movie_input.lower()\n",
        "    movie_index = self.mapping[movie_input]\n",
        "    similarity_score = list(enumerate(self.similarity_matrix[movie_index]))\n",
        "    similarity_score = sorted(similarity_score, key=lambda x: x[1], reverse=True)\n",
        "    similarity_score = similarity_score[1:15]\n",
        "    movie_indices = [i[0] for i in similarity_score]\n",
        "    return (movies_data['Title'].iloc[movie_indices].values[0:10])"
      ],
      "metadata": {
        "id": "SK3t3rL92RbG"
      },
      "execution_count": 17,
      "outputs": []
    },
    {
      "cell_type": "code",
      "source": [
        "movie = movie_recommend()\n",
        "movie.recommend_movies_based_on_plot('iron man')"
      ],
      "metadata": {
        "colab": {
          "base_uri": "https://localhost:8080/"
        },
        "id": "PGHTD_H14uZ2",
        "outputId": "5dbcd617-087b-47c2-b4b2-996022460602"
      },
      "execution_count": 18,
      "outputs": [
        {
          "output_type": "execute_result",
          "data": {
            "text/plain": [
              "array(['iron man 2', 'iron man 3', 'spider-man: homecoming',\n",
              "       'cowboys and aliens', 'captain america: civil war',\n",
              "       'thor: the dark world', 'transformers: the last knight',\n",
              "       'avengers assemble', 'watchmen', 'robocop'], dtype=object)"
            ]
          },
          "metadata": {},
          "execution_count": 18
        }
      ]
    },
    {
      "cell_type": "code",
      "source": [],
      "metadata": {
        "id": "Y2P02hDF4xN3"
      },
      "execution_count": 18,
      "outputs": []
    }
  ]
}